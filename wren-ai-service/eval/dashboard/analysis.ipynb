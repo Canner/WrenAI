{
 "cells": [
  {
   "cell_type": "markdown",
   "metadata": {},
   "source": [
    "# Langfuse Data Analysis"
   ]
  },
  {
   "cell_type": "code",
   "execution_count": null,
   "metadata": {},
   "outputs": [],
   "source": [
    "import json\n",
    "import os\n",
    "from typing import Optional\n",
    "\n",
    "from dotenv import load_dotenv\n",
    "from langfuse import Langfuse"
   ]
  },
  {
   "cell_type": "markdown",
   "metadata": {},
   "source": [
    "### Utilities Functions"
   ]
  },
  {
   "cell_type": "code",
   "execution_count": null,
   "metadata": {},
   "outputs": [],
   "source": [
    "def init_langfuse_client(public_key: str, secret_key: str, host: str):\n",
    "    return Langfuse(\n",
    "        public_key=public_key,\n",
    "        secret_key=secret_key,\n",
    "        host=host,\n",
    "    )"
   ]
  },
  {
   "cell_type": "code",
   "execution_count": null,
   "metadata": {},
   "outputs": [],
   "source": [
    "def spanning_seconds(end_time, start_time):\n",
    "    return (end_time - start_time).total_seconds()"
   ]
  },
  {
   "cell_type": "code",
   "execution_count": null,
   "metadata": {},
   "outputs": [],
   "source": [
    "def get_all_traces(client, name: Optional[str]=None):\n",
    "    traces = []\n",
    "    page = 1\n",
    "\n",
    "    while True:\n",
    "        data = client.fetch_traces(name=name, page=page).data\n",
    "        if len(data) == 0:\n",
    "            break\n",
    "        traces += data\n",
    "        page += 1\n",
    "\n",
    "    return traces"
   ]
  },
  {
   "cell_type": "code",
   "execution_count": null,
   "metadata": {},
   "outputs": [],
   "source": [
    "def get_traces_with_project_id(traces, project_id):\n",
    "    results = []\n",
    "    for trace in traces:\n",
    "        if trace.metadata and trace.metadata.get('project_id', '') == project_id:\n",
    "            results.append(trace)\n",
    "    return results"
   ]
  },
  {
   "cell_type": "code",
   "execution_count": null,
   "metadata": {},
   "outputs": [],
   "source": [
    "def pprint_json(data):\n",
    "    print(json.dumps(json.loads(data), indent=2, ensure_ascii=False))"
   ]
  },
  {
   "cell_type": "code",
   "execution_count": null,
   "metadata": {},
   "outputs": [],
   "source": [
    "def get_error_results_by_query(error_results, query):\n",
    "    results = []\n",
    "    for error_type in error_results.keys():\n",
    "        results += list(\n",
    "            filter(\n",
    "                lambda error_result: error_result.dict()['input']['args'][0]['query'] == query,\n",
    "                error_results[error_type]\n",
    "            )\n",
    "        )\n",
    "    return results"
   ]
  },
  {
   "cell_type": "markdown",
   "metadata": {},
   "source": [
    "## Analysis"
   ]
  },
  {
   "cell_type": "code",
   "execution_count": null,
   "metadata": {},
   "outputs": [],
   "source": [
    "load_dotenv(\".env\", override=True)\n",
    "\n",
    "client = init_langfuse_client(\n",
    "    os.getenv(\"LANGFUSE_PUBLIC_KEY\"),\n",
    "    os.getenv(\"LANGFUSE_SECRET_KEY\"),\n",
    "    os.getenv(\"LANGFUSE_HOST\")\n",
    ")"
   ]
  },
  {
   "cell_type": "code",
   "execution_count": null,
   "metadata": {},
   "outputs": [],
   "source": [
    "traces = get_all_traces(client)\n",
    "len(traces)"
   ]
  },
  {
   "cell_type": "code",
   "execution_count": null,
   "metadata": {},
   "outputs": [],
   "source": [
    "traces = get_traces_with_project_id(traces, \"113\")  # foxcomm\n",
    "len(traces)"
   ]
  },
  {
   "cell_type": "code",
   "execution_count": null,
   "metadata": {},
   "outputs": [],
   "source": [
    "error_results = []\n",
    "no_error_results = []\n",
    "for trace in traces:\n",
    "    if trace.output and trace.output.get('metadata', {}).get('error_type', ''):\n",
    "        error_results.append(trace)\n",
    "    else:\n",
    "        no_error_results.append(trace)\n",
    "\n",
    "assert len(error_results) + len(no_error_results) == len(traces)\n",
    "len(error_results), len(no_error_results)"
   ]
  },
  {
   "cell_type": "markdown",
   "metadata": {},
   "source": [
    "### Ratio of failed Traces"
   ]
  },
  {
   "cell_type": "code",
   "execution_count": null,
   "metadata": {},
   "outputs": [],
   "source": [
    "len(error_results) / len(traces)"
   ]
  },
  {
   "cell_type": "code",
   "execution_count": null,
   "metadata": {},
   "outputs": [],
   "source": [
    "error_results_details = {}\n",
    "for result in error_results:\n",
    "    error_type = result.output['metadata']['error_type']\n",
    "    if error_type not in error_results_details:\n",
    "        error_results_details[error_type] = [result]\n",
    "    else:\n",
    "        error_results_details[error_type].append(result)"
   ]
  },
  {
   "cell_type": "code",
   "execution_count": null,
   "metadata": {},
   "outputs": [],
   "source": [
    "for key, value in error_results_details.items():\n",
    "    print(key)\n",
    "    print(len(value))"
   ]
  },
  {
   "cell_type": "code",
   "execution_count": null,
   "metadata": {},
   "outputs": [],
   "source": [
    "_error_results = get_error_results_by_query(error_results_details, '我在台中公園，有哪些路線我可以搭乘？')\n",
    "len(_error_results)"
   ]
  },
  {
   "cell_type": "code",
   "execution_count": null,
   "metadata": {},
   "outputs": [],
   "source": [
    "for _error_result in _error_results:\n",
    "    pprint_json(_error_result.json())"
   ]
  },
  {
   "cell_type": "markdown",
   "metadata": {},
   "source": [
    "### Error Type: OTHERS"
   ]
  },
  {
   "cell_type": "code",
   "execution_count": null,
   "metadata": {},
   "outputs": [],
   "source": [
    "for error_result in error_results_details['OTHERS']:\n",
    "    pprint_json(error_result.json())"
   ]
  },
  {
   "cell_type": "markdown",
   "metadata": {},
   "source": [
    "### Error Type: NO_RELEVANT_DATA"
   ]
  },
  {
   "cell_type": "code",
   "execution_count": null,
   "metadata": {},
   "outputs": [],
   "source": [
    "for error_result in error_results_details['NO_RELEVANT_DATA']:\n",
    "    pprint_json(error_result.json())"
   ]
  },
  {
   "cell_type": "markdown",
   "metadata": {},
   "source": [
    "### Error Type: NO_RELEVANT_SQL"
   ]
  },
  {
   "cell_type": "code",
   "execution_count": null,
   "metadata": {},
   "outputs": [],
   "source": [
    "for error_result in error_results_details['NO_RELEVANT_SQL']:\n",
    "    pprint_json(error_result.json())"
   ]
  },
  {
   "cell_type": "markdown",
   "metadata": {},
   "source": [
    "### Error Type: SQL_BREAKDOWN_FAILED"
   ]
  },
  {
   "cell_type": "code",
   "execution_count": null,
   "metadata": {},
   "outputs": [],
   "source": [
    "for error_result in error_results_details['SQL_BREAKDOWN_FAILED']:\n",
    "    pprint_json(error_result.json())"
   ]
  },
  {
   "cell_type": "markdown",
   "metadata": {},
   "source": [
    "### No Error Results"
   ]
  },
  {
   "cell_type": "code",
   "execution_count": null,
   "metadata": {},
   "outputs": [],
   "source": [
    "for no_error_result in no_error_results:\n",
    "    pprint_json(no_error_result.json())"
   ]
  },
  {
   "cell_type": "code",
   "execution_count": null,
   "metadata": {},
   "outputs": [],
   "source": []
  }
 ],
 "metadata": {
  "kernelspec": {
   "display_name": "wren-ai-service-rIOQoSXj-py3.12",
   "language": "python",
   "name": "python3"
  },
  "language_info": {
   "codemirror_mode": {
    "name": "ipython",
    "version": 3
   },
   "file_extension": ".py",
   "mimetype": "text/x-python",
   "name": "python",
   "nbconvert_exporter": "python",
   "pygments_lexer": "ipython3",
   "version": "3.12.4"
  }
 },
 "nbformat": 4,
 "nbformat_minor": 2
}
