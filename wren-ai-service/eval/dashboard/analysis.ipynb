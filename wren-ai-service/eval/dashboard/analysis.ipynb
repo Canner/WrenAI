{
 "cells": [
  {
   "cell_type": "markdown",
   "metadata": {},
   "source": [
    "# Langfuse Data Analysis"
   ]
  },
  {
   "cell_type": "code",
   "execution_count": null,
   "metadata": {},
   "outputs": [],
   "source": [
    "import json\n",
    "import os\n",
    "from typing import Optional\n",
    "\n",
    "from dotenv import load_dotenv\n",
    "from langfuse import Langfuse"
   ]
  },
  {
   "cell_type": "code",
   "execution_count": null,
   "metadata": {},
   "outputs": [],
   "source": [
    "def init_langfuse_client(public_key: str, secret_key: str, host: str):\n",
    "    return Langfuse(\n",
    "        public_key=public_key,\n",
    "        secret_key=secret_key,\n",
    "        host=host,\n",
    "    )"
   ]
  },
  {
   "cell_type": "code",
   "execution_count": null,
   "metadata": {},
   "outputs": [],
   "source": [
    "def spanning_seconds(end_time, start_time):\n",
    "    return (end_time - start_time).total_seconds()"
   ]
  },
  {
   "cell_type": "code",
   "execution_count": null,
   "metadata": {},
   "outputs": [],
   "source": [
    "def get_all_traces(client, name: Optional[str]=None):\n",
    "    traces = []\n",
    "    page = 1\n",
    "\n",
    "    while True:\n",
    "        data = client.fetch_traces(name=name, page=page).data\n",
    "        if len(data) == 0:\n",
    "            break\n",
    "        traces += data\n",
    "        page += 1\n",
    "\n",
    "    return traces"
   ]
  },
  {
   "cell_type": "code",
   "execution_count": null,
   "metadata": {},
   "outputs": [],
   "source": [
    "def get_traces_with_project_id(traces, project_id):\n",
    "    results = []\n",
    "    for trace in traces:\n",
    "        if trace.metadata and trace.metadata.get('project_id', '') == project_id:\n",
    "            results.append(trace)\n",
    "    return results"
   ]
  },
  {
   "cell_type": "code",
   "execution_count": null,
   "metadata": {},
   "outputs": [],
   "source": [
    "def pprint_json(data):\n",
    "    print(json.dumps(json.loads(data), indent=2, ensure_ascii=False))"
   ]
  },
  {
   "cell_type": "code",
   "execution_count": null,
   "metadata": {},
   "outputs": [],
   "source": [
    "load_dotenv(\".env\", override=True)\n",
    "\n",
    "client = init_langfuse_client(\n",
    "    os.getenv(\"LANGFUSE_PUBLIC_KEY\"),\n",
    "    os.getenv(\"LANGFUSE_SECRET_KEY\"),\n",
    "    os.getenv(\"LANGFUSE_HOST\")\n",
    ")"
   ]
  },
  {
   "cell_type": "code",
   "execution_count": null,
   "metadata": {},
   "outputs": [],
   "source": [
    "traces = get_all_traces(client)\n",
    "len(traces)"
   ]
  },
  {
   "cell_type": "code",
   "execution_count": null,
   "metadata": {},
   "outputs": [],
   "source": [
    "traces_with_same_project = get_traces_with_project_id(traces, \"161\")\n",
    "len(traces_with_same_project)"
   ]
  },
  {
   "cell_type": "code",
   "execution_count": null,
   "metadata": {},
   "outputs": [],
   "source": [
    "results = []\n",
    "for trace in traces_with_same_project:\n",
    "    if trace.output and trace.output.get('metadata', {}).get('error_type', ''):\n",
    "        results.append(trace)\n",
    "len(results)"
   ]
  },
  {
   "cell_type": "markdown",
   "metadata": {},
   "source": [
    "Ratio of failed Traces"
   ]
  },
  {
   "cell_type": "code",
   "execution_count": null,
   "metadata": {},
   "outputs": [],
   "source": [
    "len(results) / len(traces_with_same_project)"
   ]
  },
  {
   "cell_type": "code",
   "execution_count": null,
   "metadata": {},
   "outputs": [],
   "source": [
    "error_results = {}\n",
    "for result in results:\n",
    "    error_type = result.output['metadata']['error_type']\n",
    "    if error_type not in error_results:\n",
    "        error_results[error_type] = [result]\n",
    "    else:\n",
    "        error_results[error_type].append(result)"
   ]
  },
  {
   "cell_type": "code",
   "execution_count": null,
   "metadata": {},
   "outputs": [],
   "source": [
    "for key, value in error_results.items():\n",
    "    print(key)\n",
    "    print(len(value))"
   ]
  },
  {
   "cell_type": "markdown",
   "metadata": {},
   "source": [
    "### Error Type: OTHERS"
   ]
  },
  {
   "cell_type": "code",
   "execution_count": null,
   "metadata": {},
   "outputs": [],
   "source": [
    "for error_result in error_results['OTHERS']:\n",
    "    pprint_json(error_result.json())"
   ]
  },
  {
   "cell_type": "markdown",
   "metadata": {},
   "source": [
    "### Error Type: NO_RELEVANT_DATA"
   ]
  },
  {
   "cell_type": "code",
   "execution_count": null,
   "metadata": {},
   "outputs": [],
   "source": [
    "for error_result in error_results['NO_RELEVANT_DATA']:\n",
    "    pprint_json(error_result.json())"
   ]
  },
  {
   "cell_type": "markdown",
   "metadata": {},
   "source": [
    "### Error Type: NO_RELEVANT_SQL"
   ]
  },
  {
   "cell_type": "code",
   "execution_count": null,
   "metadata": {},
   "outputs": [],
   "source": [
    "for error_result in error_results['NO_RELEVANT_SQL']:\n",
    "    pprint_json(error_result.json())"
   ]
  },
  {
   "cell_type": "code",
   "execution_count": null,
   "metadata": {},
   "outputs": [],
   "source": [
    "_results = list(\n",
    "    filter(\n",
    "        lambda error_result: error_result.dict()['input']['args'][0]['query'] == 'What is the close rate of deals in the funnel?',\n",
    "        error_results['NO_RELEVANT_SQL']\n",
    "    )\n",
    ")\n",
    "len(_results)"
   ]
  },
  {
   "cell_type": "code",
   "execution_count": null,
   "metadata": {},
   "outputs": [],
   "source": [
    "for _result in _results:\n",
    "    pprint_json(_result.json())"
   ]
  },
  {
   "cell_type": "markdown",
   "metadata": {},
   "source": [
    "### Error Type: SQL_BREAKDOWN_FAILED"
   ]
  },
  {
   "cell_type": "code",
   "execution_count": null,
   "metadata": {},
   "outputs": [],
   "source": [
    "for error_result in error_results['SQL_BREAKDOWN_FAILED']:\n",
    "    pprint_json(error_result.json())"
   ]
  },
  {
   "cell_type": "code",
   "execution_count": null,
   "metadata": {},
   "outputs": [],
   "source": []
  }
 ],
 "metadata": {
  "kernelspec": {
   "display_name": "wren-ai-service-rIOQoSXj-py3.12",
   "language": "python",
   "name": "python3"
  },
  "language_info": {
   "codemirror_mode": {
    "name": "ipython",
    "version": 3
   },
   "file_extension": ".py",
   "mimetype": "text/x-python",
   "name": "python",
   "nbconvert_exporter": "python",
   "pygments_lexer": "ipython3",
   "version": "3.12.4"
  }
 },
 "nbformat": 4,
 "nbformat_minor": 2
}
